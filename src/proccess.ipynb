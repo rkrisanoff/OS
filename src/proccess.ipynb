{
 "cells": [
  {
   "cell_type": "code",
   "execution_count": null,
   "metadata": {},
   "outputs": [],
   "source": [
    "#!/opt/anaconda/bin/python\n",
    "import sys\n",
    "import pandas as pd\n",
    "import matplotlib.pyplot as plt\n",
    "import numpy as np\n",
    "\n",
    "fileRoot = \"/home/drukhary/IFMO/OS/Lab1/data/processed/\"\n",
    "\n",
    "drukharyData = [\n",
    "    {\"datafile\":\"cpu.log\",\"xLabelName\":\"Time (seconds)\",\"yLabelName\":\"%CPU\",\"yColumn\":\"%CPU\"},\n",
    "    {\"datafile\":\"io.log\",\"xLabelName\":\"Time (seconds)\",\"yLabelName\":\"kB_wr/s\",\"yColumn\":\"kB_wr/s\"},\n",
    "    {\"datafile\":\"network.log\",\"xLabelName\":\"Time (seconds)\",\"yLabelName\":\"rx\",\"yColumn\":\"rx\"},\n",
    "    {\"datafile\":\"network.log\",\"xLabelName\":\"Time (seconds)\",\"yLabelName\":\"tx\",\"yColumn\":\"tx\"}\n",
    "]\n",
    "\n",
    "\n"
   ]
  },
  {
   "cell_type": "code",
   "execution_count": null,
   "metadata": {},
   "outputs": [],
   "source": [
    "for data in drukharyData:\n",
    "    csvData = pd.read_csv(f'{fileRoot}/{data[\"datafile\"]}', delim_whitespace=True)\n",
    "\n",
    "    pc = []\n",
    "    for i in list(csvData[data[\"yColumn\"]]):\n",
    "        pc.append(float(i))\n",
    "\n",
    "        \n",
    "    pcz = []\n",
    "    for j in range(len(pc)):\n",
    "        if j % 1 == 0:\n",
    "            pcz.append(pc[j])\n",
    "\n",
    "    x = np.linspace(0, 1000, len(pcz))\n",
    "    y = np.array(pcz)\n",
    "    fig, ax = plt.subplots()\n",
    "\n",
    "    ax.plot(x, y, linewidth=2.0)\n",
    "\n",
    "    plt.xlabel(data[\"xLabelName\"])\n",
    "    plt.ylabel(data[\"yLabelName\"])\n",
    "    # ax.set(xlim=(0, 100), xticks=np.arange(1, 100,10),\n",
    "    #        ylim=(0, 200), yticks=np.arange(1, 200,20))\n",
    "    plt.autoscale()\n",
    "    plt.show()"
   ]
  }
 ],
 "metadata": {
  "kernelspec": {
   "display_name": "Python 3.9.13 ('base')",
   "language": "python",
   "name": "python3"
  },
  "language_info": {
   "codemirror_mode": {
    "name": "ipython",
    "version": 3
   },
   "file_extension": ".py",
   "mimetype": "text/x-python",
   "name": "python",
   "nbconvert_exporter": "python",
   "pygments_lexer": "ipython3",
   "version": "3.9.13"
  },
  "orig_nbformat": 4,
  "vscode": {
   "interpreter": {
    "hash": "586ad1ed5c97141e2437e681efbf1ec0adcd17d830cf5af2ca3d2819e743e158"
   }
  }
 },
 "nbformat": 4,
 "nbformat_minor": 2
}
